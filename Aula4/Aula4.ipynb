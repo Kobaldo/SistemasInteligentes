{
  "nbformat": 4,
  "nbformat_minor": 0,
  "metadata": {
    "colab": {
      "provenance": []
    },
    "kernelspec": {
      "name": "python3",
      "display_name": "Python 3"
    },
    "language_info": {
      "name": "python"
    }
  },
  "cells": [
    {
      "cell_type": "code",
      "execution_count": null,
      "metadata": {
        "colab": {
          "base_uri": "https://localhost:8080/"
        },
        "id": "T1FPyvKwzUum",
        "outputId": "cb399494-3c22-4e10-a147-3d31cc2dcc81"
      },
      "outputs": [
        {
          "output_type": "stream",
          "name": "stdout",
          "text": [
            "Resultados do teste:\n",
            "   emoji_testado sentimento_real sentimento_previsto\n",
            "0              😉      brincalhão          brincalhão\n",
            "1              😴         cansado             cansado\n",
            "2              😭        chorando             cansado\n",
            "3              😜       divertido           divertido\n",
            "4              😭        chorando             cansado\n",
            "5              😇           calmo               calmo\n",
            "6              😟      preocupado          preocupado\n",
            "7              😂           feliz               feliz\n",
            "8              😤      estressado          estressado\n",
            "9              😎        relaxado            relaxado\n",
            "10             😊        contente            contente\n",
            "11             😡        irritado            irritado\n",
            "12             😕         confuso             confuso\n",
            "13             😪       sonolento           sonolento\n",
            "14             😁          alegre              alegre\n",
            "15             😥          triste              triste\n",
            "16             🤔       pensativo           pensativo\n",
            "17             🙁      desanimado          desanimado\n",
            "18             😒      impaciente          impaciente\n",
            "\n",
            "Acurácia do modelo: 89.47%\n"
          ]
        }
      ],
      "source": [
        "import pandas as pd\n",
        "from sklearn.model_selection import train_test_split\n",
        "from sklearn.tree import DecisionTreeClassifier\n",
        "from sklearn.preprocessing import LabelEncoder\n",
        "import random\n",
        "\n",
        "# Novo dataset com mais exemplos por classe\n",
        "dados = {\n",
        "    'emoji': ['😁', '😁', '😒', '😒', '😥', '😥', '😎', '😎', '😤', '😤',\n",
        "              '😡', '😡', '😕', '😕', '😂', '😂', '😪', '😪', '😭', '😭',\n",
        "              '😃', '😃', '🙁', '🙁', '😜', '😜', '😊', '😊', '🤔', '🤔',\n",
        "              '😟', '😟', '😇', '😇', '😉', '😉', '😴', '😴', '😭', '😭',\n",
        "              '😁', '😁', '😒', '😒', '😥', '😥', '😎', '😎', '😤', '😤',\n",
        "              '😡', '😡', '😕', '😕', '😂', '😂', '😪', '😪', '😭', '😭'],\n",
        "    'sentimento': ['alegre', 'alegre', 'impaciente', 'impaciente', 'triste', 'triste',\n",
        "                   'relaxado', 'relaxado', 'estressado', 'estressado', 'irritado', 'irritado',\n",
        "                   'confuso', 'confuso', 'feliz', 'feliz', 'sonolento', 'sonolento',\n",
        "                   'chorando', 'chorando', 'animado', 'animado', 'desanimado', 'desanimado',\n",
        "                   'divertido', 'divertido', 'contente', 'contente', 'pensativo', 'pensativo',\n",
        "                   'preocupado', 'preocupado', 'calmo', 'calmo', 'brincalhão', 'brincalhão',\n",
        "                   'cansado', 'cansado', 'chorando', 'chorando', 'alegre', 'alegre',\n",
        "                   'impaciente', 'impaciente', 'triste', 'triste', 'relaxado', 'relaxado',\n",
        "                   'estressado', 'estressado', 'irritado', 'irritado', 'confuso', 'confuso',\n",
        "                   'feliz', 'feliz', 'sonolento', 'sonolento', 'chorando', 'chorando']\n",
        "}\n",
        "\n",
        "# Criando o DataFrame\n",
        "df = pd.DataFrame(dados)\n",
        "\n",
        "# Codificação dos emojis e sentimentos\n",
        "encoder_emoji = LabelEncoder()\n",
        "encoder_sentimento = LabelEncoder()\n",
        "\n",
        "df['emoji_codificado'] = encoder_emoji.fit_transform(df['emoji'])\n",
        "df['sentimento_codificado'] = encoder_sentimento.fit_transform(df['sentimento'])\n",
        "\n",
        "# Dividindo os dados em treino e teste\n",
        "X = df[['emoji_codificado']]\n",
        "y = df['sentimento_codificado']\n",
        "# Definir um número fixo para o tamanho do conjunto de teste\n",
        "X_train, X_test, y_train, y_test = train_test_split(X, y, test_size=19, random_state=42, stratify=y)\n",
        "\n",
        "for i in range(5):  # Número de exemplos com ruído\n",
        "    idx = random.randint(0, len(y_train) - 1)  # Seleciona um índice aleatório\n",
        "    y_train.iloc[idx] = random.choice(y_train.unique())  # Atribui um rótulo aleatório\n",
        "\n",
        "# Treinando o modelo com uma árvore de decisão\n",
        "modelo = DecisionTreeClassifier()\n",
        "modelo.fit(X_train, y_train)\n",
        "\n",
        "# Fazendo previsões no conjunto de teste\n",
        "previsoes = modelo.predict(X_test)\n",
        "\n",
        "# Decodificando previsões e resultados reais\n",
        "previsoes_texto = encoder_sentimento.inverse_transform(previsoes)\n",
        "realidade_texto = encoder_sentimento.inverse_transform(y_test)\n",
        "\n",
        "# Exibindo resultados\n",
        "resultado = pd.DataFrame({\n",
        "    'emoji_testado': encoder_emoji.inverse_transform(X_test['emoji_codificado']),\n",
        "    'sentimento_real': realidade_texto,\n",
        "    'sentimento_previsto': previsoes_texto\n",
        "})\n",
        "\n",
        "print(\"Resultados do teste:\")\n",
        "print(resultado)\n",
        "\n",
        "# Avaliação da precisão\n",
        "acuracia = (previsoes == y_test).mean() * 100\n",
        "print(f\"\\nAcurácia do modelo: {acuracia:.2f}%\")\n"
      ]
    },
    {
      "cell_type": "code",
      "source": [],
      "metadata": {
        "id": "QaZO3-AR21WU"
      },
      "execution_count": null,
      "outputs": []
    }
  ]
}